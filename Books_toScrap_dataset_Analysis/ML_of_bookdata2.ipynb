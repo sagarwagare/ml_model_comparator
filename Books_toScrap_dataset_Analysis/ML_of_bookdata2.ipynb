{
  "nbformat": 4,
  "nbformat_minor": 0,
  "metadata": {
    "colab": {
      "provenance": []
    },
    "kernelspec": {
      "name": "python3",
      "display_name": "Python 3"
    },
    "language_info": {
      "name": "python"
    }
  },
  "cells": [
    {
      "cell_type": "markdown",
      "source": [
        "# ***Step 2: Data Cleaning and Analysis in Python***"
      ],
      "metadata": {
        "id": "dGC7W8Mi7BQ1"
      }
    },
    {
      "cell_type": "code",
      "execution_count": 36,
      "metadata": {
        "id": "cGLNb5Cv4BHl"
      },
      "outputs": [],
      "source": [
        "# 1. Load the scraped data (from CSV or DataFrame)"
      ]
    },
    {
      "cell_type": "code",
      "source": [
        "import pandas as pd\n",
        "\n",
        "df = pd.read_csv(\"/content/cleaned_books.csv\")  # or your raw scraped CSV\n",
        "\n",
        "print(df.head())          # See first 5 rows\n"
      ],
      "metadata": {
        "id": "A-3vyJAM5cv9",
        "colab": {
          "base_uri": "https://localhost:8080/"
        },
        "outputId": "4d0fb9fe-a582-4c03-f763-4b1657254ecf"
      },
      "execution_count": 37,
      "outputs": [
        {
          "output_type": "stream",
          "name": "stdout",
          "text": [
            "                                   title  price (£) availability rating  \\\n",
            "0                   A Light in the Attic      51.77     In stock  Three   \n",
            "1                     Tipping the Velvet      53.74     In stock    One   \n",
            "2                             Soumission      50.10     In stock    One   \n",
            "3                          Sharp Objects      47.82     In stock   Four   \n",
            "4  Sapiens: A Brief History of Humankind      54.23     In stock   Five   \n",
            "\n",
            "                                                link  \n",
            "0  https://books.toscrape.com/catalogue/a-light-i...  \n",
            "1  https://books.toscrape.com/catalogue/tipping-t...  \n",
            "2  https://books.toscrape.com/catalogue/soumissio...  \n",
            "3  https://books.toscrape.com/catalogue/sharp-obj...  \n",
            "4  https://books.toscrape.com/catalogue/sapiens-a...  \n"
          ]
        }
      ]
    },
    {
      "cell_type": "markdown",
      "source": [
        "2. Inspect your data\n",
        "\n",
        "\n",
        "Check data info and look for missing or inconsistent values:"
      ],
      "metadata": {
        "id": "2rDTNUPwE8NL"
      }
    },
    {
      "cell_type": "code",
      "source": [
        "print(df.info())          # Data types and null counts"
      ],
      "metadata": {
        "colab": {
          "base_uri": "https://localhost:8080/"
        },
        "id": "S7Em0Vi46hWr",
        "outputId": "127566c3-5c33-400a-fc8c-2f646716abe0"
      },
      "execution_count": 3,
      "outputs": [
        {
          "output_type": "stream",
          "name": "stdout",
          "text": [
            "<class 'pandas.core.frame.DataFrame'>\n",
            "RangeIndex: 200 entries, 0 to 199\n",
            "Data columns (total 5 columns):\n",
            " #   Column        Non-Null Count  Dtype  \n",
            "---  ------        --------------  -----  \n",
            " 0   title         200 non-null    object \n",
            " 1   price (£)     200 non-null    float64\n",
            " 2   availability  200 non-null    object \n",
            " 3   rating        200 non-null    object \n",
            " 4   link          200 non-null    object \n",
            "dtypes: float64(1), object(4)\n",
            "memory usage: 7.9+ KB\n",
            "None\n"
          ]
        }
      ]
    },
    {
      "cell_type": "code",
      "source": [
        "print(df.describe())      # Statistical summary for numerical data"
      ],
      "metadata": {
        "colab": {
          "base_uri": "https://localhost:8080/"
        },
        "id": "_oXppVtE6hTT",
        "outputId": "dda951ad-f25a-4ae6-8c3a-49ddbef13a81"
      },
      "execution_count": 4,
      "outputs": [
        {
          "output_type": "stream",
          "name": "stdout",
          "text": [
            "        price (£)\n",
            "count  200.000000\n",
            "mean    34.796250\n",
            "std     14.119272\n",
            "min     10.160000\n",
            "25%     21.990000\n",
            "50%     35.640000\n",
            "75%     46.110000\n",
            "max     59.640000\n"
          ]
        }
      ]
    },
    {
      "cell_type": "code",
      "source": [
        "print(df['availability'].value_counts())  # See unique availability values"
      ],
      "metadata": {
        "colab": {
          "base_uri": "https://localhost:8080/"
        },
        "id": "lWfcvEDz6hQL",
        "outputId": "3acdbad2-35f2-425f-fc7c-2faec67e0fbe"
      },
      "execution_count": 5,
      "outputs": [
        {
          "output_type": "stream",
          "name": "stdout",
          "text": [
            "availability\n",
            "In stock    200\n",
            "Name: count, dtype: int64\n"
          ]
        }
      ]
    },
    {
      "cell_type": "code",
      "source": [
        "print(df['rating'].value_counts())"
      ],
      "metadata": {
        "colab": {
          "base_uri": "https://localhost:8080/"
        },
        "id": "-tl0rCTC6hNS",
        "outputId": "51ecfad7-144d-48f8-d992-60937750a1f8"
      },
      "execution_count": 6,
      "outputs": [
        {
          "output_type": "stream",
          "name": "stdout",
          "text": [
            "rating\n",
            "One      49\n",
            "Two      41\n",
            "Four     38\n",
            "Five     37\n",
            "Three    35\n",
            "Name: count, dtype: int64\n"
          ]
        }
      ]
    },
    {
      "cell_type": "code",
      "source": [],
      "metadata": {
        "id": "TpsFVMi26fQu"
      },
      "execution_count": null,
      "outputs": []
    },
    {
      "cell_type": "markdown",
      "source": [
        "**3. Data Cleaning**\n",
        "\n",
        "Fix missing or inconsistent values\n",
        "\n",
        "Convert data types if needed\n",
        "\n",
        "Normalize categorical data\n",
        "\n",
        "Create new useful columns"
      ],
      "metadata": {
        "id": "dHd1OjycFG0I"
      }
    },
    {
      "cell_type": "code",
      "source": [
        "# Strip extra spaces in 'availability'\n",
        "df['availability'] = df['availability'].str.strip()\n",
        "\n",
        "# Convert 'availability' to numeric stock count (optional)\n",
        "# e.g., \"In stock (22 available)\" → extract 22\n",
        "import re\n",
        "def extract_stock(text):\n",
        "    match = re.search(r'\\((\\d+) available\\)', text)\n",
        "    return int(match.group(1)) if match else 0\n",
        "\n",
        "df['stock'] = df['availability'].apply(extract_stock)\n",
        "\n",
        "# Map textual ratings to numeric scores\n",
        "rating_map = {'One': 1, 'Two': 2, 'Three': 3, 'Four': 4, 'Five': 5}\n",
        "df['rating_num'] = df['rating'].map(rating_map)\n",
        "\n",
        "# Check for missing values and fill or drop if necessary\n",
        "print(df.isnull().sum())\n",
        "# If needed, drop rows with missing values or fill them:\n",
        "# df = df.dropna() or df.fillna(method='ffill', inplace=True)\n",
        "\n",
        "# Remove duplicates if any\n",
        "df = df.drop_duplicates()\n"
      ],
      "metadata": {
        "id": "IiZuK5mn-4aG",
        "colab": {
          "base_uri": "https://localhost:8080/"
        },
        "outputId": "e18835f8-c543-4c1c-a716-2e5e69c5d87d"
      },
      "execution_count": 7,
      "outputs": [
        {
          "output_type": "stream",
          "name": "stdout",
          "text": [
            "title           0\n",
            "price (£)       0\n",
            "availability    0\n",
            "rating          0\n",
            "link            0\n",
            "stock           0\n",
            "rating_num      0\n",
            "dtype: int64\n"
          ]
        }
      ]
    },
    {
      "cell_type": "markdown",
      "source": [
        "**4. Basic Data Analysis & Summary(EDA)**\n",
        "\n",
        "\n",
        "\n"
      ],
      "metadata": {
        "id": "KMwAD-F3FOKx"
      }
    },
    {
      "cell_type": "code",
      "source": [
        "# Average price of books\n",
        "print(\"Average book price:\", df['price (£)'].mean())\n"
      ],
      "metadata": {
        "id": "_prw58hJCZsL",
        "colab": {
          "base_uri": "https://localhost:8080/"
        },
        "outputId": "b0615ec5-4a28-411f-d657-a98dbf7ccc84"
      },
      "execution_count": 8,
      "outputs": [
        {
          "output_type": "stream",
          "name": "stdout",
          "text": [
            "Average book price: 34.79625\n"
          ]
        }
      ]
    },
    {
      "cell_type": "code",
      "source": [
        "# Distribution of ratings\n",
        "print(df['rating_num'].value_counts().sort_index())\n",
        "\n"
      ],
      "metadata": {
        "colab": {
          "base_uri": "https://localhost:8080/"
        },
        "id": "-kO5wvIr70Ja",
        "outputId": "92347c0e-7bfe-428a-84ca-25c6df6da44d"
      },
      "execution_count": 9,
      "outputs": [
        {
          "output_type": "stream",
          "name": "stdout",
          "text": [
            "rating_num\n",
            "1    49\n",
            "2    41\n",
            "3    35\n",
            "4    38\n",
            "5    37\n",
            "Name: count, dtype: int64\n"
          ]
        }
      ]
    },
    {
      "cell_type": "code",
      "source": [
        "\n",
        "# Stock availability summary\n",
        "print(df['stock'].describe())\n",
        "\n"
      ],
      "metadata": {
        "colab": {
          "base_uri": "https://localhost:8080/"
        },
        "id": "-AegRUnx74Xs",
        "outputId": "c102a9c9-57da-4558-8477-9f41f1009559"
      },
      "execution_count": 10,
      "outputs": [
        {
          "output_type": "stream",
          "name": "stdout",
          "text": [
            "count    200.0\n",
            "mean       0.0\n",
            "std        0.0\n",
            "min        0.0\n",
            "25%        0.0\n",
            "50%        0.0\n",
            "75%        0.0\n",
            "max        0.0\n",
            "Name: stock, dtype: float64\n"
          ]
        }
      ]
    },
    {
      "cell_type": "code",
      "source": [
        "\n",
        "# Top 5 most expensive books\n",
        "print(df.sort_values(by='price (£)', ascending=False).head())\n"
      ],
      "metadata": {
        "colab": {
          "base_uri": "https://localhost:8080/"
        },
        "id": "RHBMsOMO7__B",
        "outputId": "b91529ff-8152-4de9-d2a3-4694a5f0ff6b"
      },
      "execution_count": 11,
      "outputs": [
        {
          "output_type": "stream",
          "name": "stdout",
          "text": [
            "                                                 title  price (£)  \\\n",
            "133  Thomas Jefferson and the Tripoli Pirates: The ...      59.64   \n",
            "68        The Death of Humanity: and the Case for Life      58.11   \n",
            "135  The White Cat and the Monk: A Retelling of the...      58.08   \n",
            "100  Immunity: How Elie Metchnikoff Changed the Cou...      57.36   \n",
            "186  I Had a Nice Time And Other Lies...: How to fi...      57.36   \n",
            "\n",
            "    availability rating                                               link  \\\n",
            "133     In stock    One  https://books.toscrape.com/catalogue/thomas-je...   \n",
            "68      In stock   Four  https://books.toscrape.com/catalogue/the-death...   \n",
            "135     In stock   Four  https://books.toscrape.com/catalogue/the-white...   \n",
            "100     In stock   Five  https://books.toscrape.com/catalogue/immunity-...   \n",
            "186     In stock   Four  https://books.toscrape.com/catalogue/i-had-a-n...   \n",
            "\n",
            "     stock  rating_num  \n",
            "133      0           1  \n",
            "68       0           4  \n",
            "135      0           4  \n",
            "100      0           5  \n",
            "186      0           4  \n"
          ]
        }
      ]
    },
    {
      "cell_type": "code",
      "source": [
        "\n",
        "# Count of books by availability (in stock vs out of stock)\n",
        "df['in_stock'] = df['stock'] > 0\n",
        "print(df['in_stock'].value_counts())"
      ],
      "metadata": {
        "colab": {
          "base_uri": "https://localhost:8080/"
        },
        "id": "i099xZiZ8Jva",
        "outputId": "cfccc5d6-1c74-4bed-e29c-af0bec8acb16"
      },
      "execution_count": 12,
      "outputs": [
        {
          "output_type": "stream",
          "name": "stdout",
          "text": [
            "in_stock\n",
            "False    200\n",
            "Name: count, dtype: int64\n"
          ]
        }
      ]
    },
    {
      "cell_type": "markdown",
      "source": [
        "**Top Rated Books (Rating = 5)**"
      ],
      "metadata": {
        "id": "xBhuzgHGFknE"
      }
    },
    {
      "cell_type": "code",
      "source": [
        "top_books = df[df['rating_num'] == 5].sort_values(by='price (£)', ascending=False)\n",
        "print(\"📚 Top Rated Books:\")\n",
        "print(top_books[['title', 'price (£)', 'rating_num']].head(10))\n"
      ],
      "metadata": {
        "id": "9gsu8GxrE8ah",
        "colab": {
          "base_uri": "https://localhost:8080/"
        },
        "outputId": "f1822a6a-a830-4ac6-da72-ab05a8d53681"
      },
      "execution_count": 13,
      "outputs": [
        {
          "output_type": "stream",
          "name": "stdout",
          "text": [
            "📚 Top Rated Books:\n",
            "                                                 title  price (£)  rating_num\n",
            "100  Immunity: How Elie Metchnikoff Changed the Cou...      57.36           5\n",
            "122  A Piece of Sky, a Grain of Rice: A Memoir in F...      56.76           5\n",
            "124            A Flight of Arrows (The Pathfinders #2)      55.53           5\n",
            "4                Sapiens: A Brief History of Humankind      54.23           5\n",
            "127  (Un)Qualified: How God Uses Broken People to D...      54.00           5\n",
            "193           Finders Keepers (Bill Hodges Trilogy #2)      53.53           5\n",
            "13   Scott Pilgrim's Precious Little Life (Scott Pi...      52.29           5\n",
            "142               The Regional Office Is Under Attack!      51.36           5\n",
            "46                        We Love You, Charlie Freeman      50.27           5\n",
            "184  Library of Souls (Miss Peregrine’s Peculiar Ch...      48.56           5\n"
          ]
        }
      ]
    },
    {
      "cell_type": "markdown",
      "source": [
        "**Books with the Highest Price**"
      ],
      "metadata": {
        "id": "LCsuztBKFrzk"
      }
    },
    {
      "cell_type": "code",
      "source": [
        "most_expensive = df.sort_values(by='price (£)', ascending=False).head(10)\n",
        "print(\"💰 Most Expensive Books:\")\n",
        "print(most_expensive[['title', 'price (£)', 'rating_num']])\n"
      ],
      "metadata": {
        "colab": {
          "base_uri": "https://localhost:8080/"
        },
        "id": "1d05NCaVH3sv",
        "outputId": "a4e7e2be-897b-4776-e8ec-224540fe80a6"
      },
      "execution_count": 14,
      "outputs": [
        {
          "output_type": "stream",
          "name": "stdout",
          "text": [
            "💰 Most Expensive Books:\n",
            "                                                 title  price (£)  rating_num\n",
            "133  Thomas Jefferson and the Tripoli Pirates: The ...      59.64           1\n",
            "68        The Death of Humanity: and the Case for Life      58.11           4\n",
            "135  The White Cat and the Monk: A Retelling of the...      58.08           4\n",
            "100  Immunity: How Elie Metchnikoff Changed the Cou...      57.36           5\n",
            "186  I Had a Nice Time And Other Lies...: How to fi...      57.36           4\n",
            "40                      Slow States of Collapse: Poems      57.31           3\n",
            "15   Our Band Could Be Your Life: Scenes from the A...      57.25           3\n",
            "122  A Piece of Sky, a Grain of Rice: A Memoir in F...      56.76           5\n",
            "58                                 The Past Never Ends      56.50           4\n",
            "57   The Pioneer Woman Cooks: Dinnertime: Comfort C...      56.41           1\n"
          ]
        }
      ]
    },
    {
      "cell_type": "markdown",
      "source": [
        "**Average Price per Rating Level**"
      ],
      "metadata": {
        "id": "jQXmkmkYFxlj"
      }
    },
    {
      "cell_type": "code",
      "source": [
        "avg_price_per_rating = df.groupby('rating_num')['price (£)'].mean().sort_index()\n",
        "print(\"📊 Average Price per Rating:\")\n",
        "print(avg_price_per_rating)\n"
      ],
      "metadata": {
        "colab": {
          "base_uri": "https://localhost:8080/"
        },
        "id": "gJn0Y6GvH7pO",
        "outputId": "9edbdd15-47ed-4743-f270-e63788603558"
      },
      "execution_count": 15,
      "outputs": [
        {
          "output_type": "stream",
          "name": "stdout",
          "text": [
            "📊 Average Price per Rating:\n",
            "rating_num\n",
            "1    34.585102\n",
            "2    33.739756\n",
            "3    36.191143\n",
            "4    34.896579\n",
            "5    34.824054\n",
            "Name: price (£), dtype: float64\n"
          ]
        }
      ]
    },
    {
      "cell_type": "markdown",
      "source": [
        "**Price Distribution Plot**"
      ],
      "metadata": {
        "id": "KbPBJ1iGGCmr"
      }
    },
    {
      "cell_type": "code",
      "source": [
        "import matplotlib.pyplot as plt\n",
        "import seaborn as sns\n",
        "\n",
        "plt.figure(figsize=(10, 5))\n",
        "sns.histplot(df['price (£)'], bins=20, kde=True, color='skyblue')\n",
        "plt.title('📈 Distribution of Book Prices')\n",
        "plt.xlabel('Price (£)')\n",
        "plt.ylabel('Count')\n",
        "plt.tight_layout()\n",
        "plt.show()\n"
      ],
      "metadata": {
        "colab": {
          "base_uri": "https://localhost:8080/",
          "height": 418
        },
        "id": "N5jIZGARIBAM",
        "outputId": "24bd71ba-a1c0-4fda-9130-44826ddb9b47"
      },
      "execution_count": 16,
      "outputs": [
        {
          "output_type": "stream",
          "name": "stderr",
          "text": [
            "<ipython-input-16-2557491939>:9: UserWarning: Glyph 128200 (\\N{CHART WITH UPWARDS TREND}) missing from font(s) DejaVu Sans.\n",
            "  plt.tight_layout()\n",
            "/usr/local/lib/python3.11/dist-packages/IPython/core/pylabtools.py:151: UserWarning: Glyph 128200 (\\N{CHART WITH UPWARDS TREND}) missing from font(s) DejaVu Sans.\n",
            "  fig.canvas.print_figure(bytes_io, **kw)\n"
          ]
        },
        {
          "output_type": "display_data",
          "data": {
            "text/plain": [
              "<Figure size 1000x500 with 1 Axes>"
            ],
            "image/png": "[encoded data removed]"
          },
          "metadata": {}
        }
      ]
    },
    {
      "cell_type": "markdown",
      "source": [
        "**Ratings Distribution**"
      ],
      "metadata": {
        "id": "8yuaSeytGHww"
      }
    },
    {
      "cell_type": "code",
      "source": [
        "sns.countplot(x='rating_num', data=df, palette='viridis')\n",
        "plt.title('⭐ Ratings Distribution')\n",
        "plt.xlabel('Rating')\n",
        "plt.ylabel('Number of Books')\n",
        "plt.show()\n"
      ],
      "metadata": {
        "colab": {
          "base_uri": "https://localhost:8080/",
          "height": 613
        },
        "id": "ojhM9GVjIFZa",
        "outputId": "5f3d194c-2797-4ede-ff5d-0c99e78ff303"
      },
      "execution_count": 17,
      "outputs": [
        {
          "output_type": "stream",
          "name": "stderr",
          "text": [
            "<ipython-input-17-2479927491>:1: FutureWarning: \n",
            "\n",
            "Passing `palette` without assigning `hue` is deprecated and will be removed in v0.14.0. Assign the `x` variable to `hue` and set `legend=False` for the same effect.\n",
            "\n",
            "  sns.countplot(x='rating_num', data=df, palette='viridis')\n",
            "/usr/local/lib/python3.11/dist-packages/IPython/core/pylabtools.py:151: UserWarning: Glyph 11088 (\\N{WHITE MEDIUM STAR}) missing from font(s) DejaVu Sans.\n",
            "  fig.canvas.print_figure(bytes_io, **kw)\n"
          ]
        },
        {
          "output_type": "display_data",
          "data": {
            "text/plain": [
              "<Figure size 640x480 with 1 Axes>"
            ],
            "image/png": "[encoded data removed]"
          },
          "metadata": {}
        }
      ]
    },
    {
      "cell_type": "code",
      "source": [
        "# plt.figure(figsize=(10, 6))\n",
        "# sns.scatterplot(x='stock', y='price (£)', hue='rating_num', palette='coolwarm')\n",
        "# plt.title('🛒 Stock vs Price by Rating')\n",
        "# plt.xlabel('Stock Available')\n",
        "# plt.ylabel('Price (£)')\n",
        "# plt.legend(title='Rating')\n",
        "# plt.show()\n"
      ],
      "metadata": {
        "id": "KUhl3JoVIJFw"
      },
      "execution_count": null,
      "outputs": []
    },
    {
      "cell_type": "markdown",
      "source": [
        "**Correlation Heatmap**"
      ],
      "metadata": {
        "id": "G1sv9zpcGM-g"
      }
    },
    {
      "cell_type": "code",
      "source": [
        "plt.figure(figsize=(8, 5))\n",
        "sns.heatmap(df[['price (£)', 'stock', 'rating_num']].corr(), annot=True, cmap='Blues')\n",
        "plt.title('📊 Correlation Between Features')\n",
        "plt.show()\n"
      ],
      "metadata": {
        "colab": {
          "base_uri": "https://localhost:8080/",
          "height": 523
        },
        "id": "IcYFLQi19CM0",
        "outputId": "0ddac997-2319-46ce-a3e0-e20d15d49eb2"
      },
      "execution_count": 19,
      "outputs": [
        {
          "output_type": "stream",
          "name": "stderr",
          "text": [
            "/usr/local/lib/python3.11/dist-packages/IPython/core/pylabtools.py:151: UserWarning: Glyph 128202 (\\N{BAR CHART}) missing from font(s) DejaVu Sans.\n",
            "  fig.canvas.print_figure(bytes_io, **kw)\n"
          ]
        },
        {
          "output_type": "display_data",
          "data": {
            "text/plain": [
              "<Figure size 800x500 with 2 Axes>"
            ],
            "image/png": "[encoded data removed]"
          },
          "metadata": {}
        }
      ]
    },
    {
      "cell_type": "markdown",
      "source": [
        "**Price Categories (Cheap, Medium, Expensive)**\n",
        "\n",
        "\n",
        "Add a new column for price category:"
      ],
      "metadata": {
        "id": "PjCG95f8GXfL"
      }
    },
    {
      "cell_type": "code",
      "source": [
        "def price_category(price):\n",
        "    if price < 20:\n",
        "        return 'Cheap'\n",
        "    elif 20 <= price < 40:\n",
        "        return 'Moderate'\n",
        "    else:\n",
        "        return 'Expensive'\n",
        "\n",
        "df['price_category'] = df['price (£)'].apply(price_category)\n",
        "print(df['price_category'].value_counts())\n"
      ],
      "metadata": {
        "colab": {
          "base_uri": "https://localhost:8080/"
        },
        "id": "E8ZW-ngT9ITj",
        "outputId": "61feb345-69e9-4f3c-ffda-4ba2b6f185c2"
      },
      "execution_count": 21,
      "outputs": [
        {
          "output_type": "stream",
          "name": "stdout",
          "text": [
            "price_category\n",
            "Expensive    79\n",
            "Moderate     79\n",
            "Cheap        42\n",
            "Name: count, dtype: int64\n"
          ]
        }
      ]
    },
    {
      "cell_type": "markdown",
      "source": [
        "Then visualize:"
      ],
      "metadata": {
        "id": "hSJqswcJGc7y"
      }
    },
    {
      "cell_type": "code",
      "source": [
        "sns.countplot(x='price_category', data=df, palette='Set2')\n",
        "plt.title('💵 Price Category Distribution')\n",
        "plt.xlabel('Price Category')\n",
        "plt.ylabel('Number of Books')\n",
        "plt.show()\n"
      ],
      "metadata": {
        "colab": {
          "base_uri": "https://localhost:8080/",
          "height": 613
        },
        "id": "PEnVDCTP9Zbo",
        "outputId": "7367d2b2-3901-44d4-c819-a6b921d8cb13"
      },
      "execution_count": 22,
      "outputs": [
        {
          "output_type": "stream",
          "name": "stderr",
          "text": [
            "<ipython-input-22-2330339516>:1: FutureWarning: \n",
            "\n",
            "Passing `palette` without assigning `hue` is deprecated and will be removed in v0.14.0. Assign the `x` variable to `hue` and set `legend=False` for the same effect.\n",
            "\n",
            "  sns.countplot(x='price_category', data=df, palette='Set2')\n",
            "/usr/local/lib/python3.11/dist-packages/IPython/core/pylabtools.py:151: UserWarning: Glyph 128181 (\\N{BANKNOTE WITH DOLLAR SIGN}) missing from font(s) DejaVu Sans.\n",
            "  fig.canvas.print_figure(bytes_io, **kw)\n"
          ]
        },
        {
          "output_type": "display_data",
          "data": {
            "text/plain": [
              "<Figure size 640x480 with 1 Axes>"
            ],
            "image/png": "[encoded data removed]"
          },
          "metadata": {}
        }
      ]
    },
    {
      "cell_type": "markdown",
      "source": [
        "Save this enriched dataset:"
      ],
      "metadata": {
        "id": "bK773CbiGgdO"
      }
    },
    {
      "cell_type": "code",
      "source": [
        "df.to_csv(\"books_enriched_analysis.csv\", index=False)\n"
      ],
      "metadata": {
        "id": "qc6tc-xh9x3F"
      },
      "execution_count": 24,
      "outputs": []
    },
    {
      "cell_type": "markdown",
      "source": [
        "**5. Save Cleaned Data**"
      ],
      "metadata": {
        "id": "HWhWe4P0FbOq"
      }
    },
    {
      "cell_type": "code",
      "source": [
        "df.to_csv(\"books_cleaned_for_analysis.csv\", index=False)\n",
        "\n",
        "# Or save as Excel\n",
        "df.to_excel(\"books_cleaned_for_analysis.xlsx\", index=False)\n"
      ],
      "metadata": {
        "id": "BKKGFgYSIXoJ"
      },
      "execution_count": 18,
      "outputs": []
    },
    {
      "cell_type": "markdown",
      "source": [
        "# ***1. Regression Model: Predict Book Price***\n",
        "\n",
        "Goal: Predict the price of a book based on its features.\n",
        "\n",
        "Features you can use:\n",
        "\n",
        "rating_num (1–5)\n",
        "\n",
        "stock (number of available items)\n",
        "\n",
        "price_category (encoded)\n",
        "\n",
        "in_stock (binary)"
      ],
      "metadata": {
        "id": "DMzqgQxZGno6"
      }
    },
    {
      "cell_type": "code",
      "source": [
        "from sklearn.model_selection import train_test_split\n",
        "from sklearn.linear_model import LinearRegression\n",
        "from sklearn.metrics import mean_absolute_error, r2_score\n",
        "from sklearn.preprocessing import LabelEncoder\n",
        "\n",
        "# Prepare data\n",
        "df = pd.read_csv(\"books_enriched_analysis.csv\")\n",
        "\n",
        "# Encode categorical column\n",
        "df['price_category_encoded'] = LabelEncoder().fit_transform(df['price_category'])\n",
        "\n",
        "X = df[['rating_num', 'stock', 'price_category_encoded']]\n",
        "y = df['price (£)']\n",
        "\n",
        "# Split data\n",
        "X_train, X_test, y_train, y_test = train_test_split(X, y, test_size=0.2, random_state=42)\n",
        "\n",
        "# Train model\n",
        "model = LinearRegression()\n",
        "model.fit(X_train, y_train)\n",
        "\n",
        "# Predict\n",
        "y_pred = model.predict(X_test)\n",
        "\n",
        "# Evaluate\n",
        "print(\"📊 MAE:\", mean_absolute_error(y_test, y_pred))\n",
        "print(\"📈 R² Score:\", r2_score(y_test, y_pred))\n"
      ],
      "metadata": {
        "colab": {
          "base_uri": "https://localhost:8080/"
        },
        "id": "XF9bmPZt8147",
        "outputId": "dbbc5523-7121-4ba9-dba9-f6bc0ec60369"
      },
      "execution_count": 25,
      "outputs": [
        {
          "output_type": "stream",
          "name": "stdout",
          "text": [
            "📊 MAE: 13.488980484208994\n",
            "📈 R² Score: -0.011149362530277651\n"
          ]
        }
      ]
    },
    {
      "cell_type": "markdown",
      "source": [
        "# ***2. Classification Model: Predict Price Category (Cheap, Moderate, Expensive)***\n",
        "\n",
        "Goal: Predict whether a book is cheap, moderate, or expensive."
      ],
      "metadata": {
        "id": "X5myFT9gG4-1"
      }
    },
    {
      "cell_type": "code",
      "source": [
        "from sklearn.ensemble import RandomForestClassifier\n",
        "from sklearn.metrics import classification_report\n",
        "\n",
        "y_class = df['price_category_encoded']\n",
        "X_train, X_test, y_train, y_test = train_test_split(X, y_class, test_size=0.2, random_state=42)\n",
        "\n",
        "clf = RandomForestClassifier()\n",
        "clf.fit(X_train, y_train)\n",
        "y_pred_class = clf.predict(X_test)\n",
        "\n",
        "print(classification_report(y_test, y_pred_class))\n"
      ],
      "metadata": {
        "colab": {
          "base_uri": "https://localhost:8080/"
        },
        "id": "O4aYc7Ae9iaO",
        "outputId": "df9a4127-ecd5-465f-8e92-e49edde296ec"
      },
      "execution_count": 26,
      "outputs": [
        {
          "output_type": "stream",
          "name": "stdout",
          "text": [
            "              precision    recall  f1-score   support\n",
            "\n",
            "           0       1.00      1.00      1.00         8\n",
            "           1       1.00      1.00      1.00        15\n",
            "           2       1.00      1.00      1.00        17\n",
            "\n",
            "    accuracy                           1.00        40\n",
            "   macro avg       1.00      1.00      1.00        40\n",
            "weighted avg       1.00      1.00      1.00        40\n",
            "\n"
          ]
        }
      ]
    },
    {
      "cell_type": "code",
      "source": [],
      "metadata": {
        "id": "RgSnmzCOBSbt"
      },
      "execution_count": null,
      "outputs": []
    }
  ]
}